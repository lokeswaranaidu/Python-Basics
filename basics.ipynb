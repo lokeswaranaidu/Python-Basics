{
 "cells": [
  {
   "cell_type": "code",
   "execution_count": 3,
   "metadata": {},
   "outputs": [
    {
     "name": "stdout",
     "output_type": "stream",
     "text": [
      "x is greter than 5\n"
     ]
    }
   ],
   "source": [
    "x=10\n",
    "if x>5:\n",
    "    print(\"x is greter than 5\")\n",
    "else:\n",
    "    print(\"x is not greter than 5\")\n"
   ]
  },
  {
   "cell_type": "code",
   "execution_count": 2,
   "metadata": {},
   "outputs": [
    {
     "name": "stdout",
     "output_type": "stream",
     "text": [
      "y is between 10 and 19\n"
     ]
    }
   ],
   "source": [
    "y=15\n",
    "if y<10:\n",
    "    print(\"y is less than 10\")\n",
    "elif y>=10 and y<20:\n",
    "    print(\"y is between 10 and 19\")\n",
    "else:\n",
    "    print(\"y is 20 or greter\")"
   ]
  },
  {
   "cell_type": "code",
   "execution_count": 4,
   "metadata": {},
   "outputs": [
    {
     "name": "stdout",
     "output_type": "stream",
     "text": [
      "banana in the list\n"
     ]
    }
   ],
   "source": [
    "fruits=['banana','apple','orange']\n",
    "if 'banana' in fruits:\n",
    "    print(\"banana in the list\")\n",
    "else:\n",
    "    print(\"banana not in the list\")\n"
   ]
  },
  {
   "cell_type": "code",
   "execution_count": null,
   "metadata": {},
   "outputs": [],
   "source": [
    "Nested if statement"
   ]
  },
  {
   "cell_type": "code",
   "execution_count": 12,
   "metadata": {},
   "outputs": [
    {
     "name": "stdout",
     "output_type": "stream",
     "text": [
      "+ve even number\n"
     ]
    }
   ],
   "source": [
    "num=int(input(\"Enter any number\"))\n",
    "if num>0:\n",
    "    if num%2==0:\n",
    "        print(\"+ve even number\")\n",
    "    else:\n",
    "        print(\"+ve odd number\")\n",
    "elif num==0:\n",
    "    print(\"zero\")"
   ]
  },
  {
   "cell_type": "code",
   "execution_count": 13,
   "metadata": {},
   "outputs": [
    {
     "name": "stdout",
     "output_type": "stream",
     "text": [
      " b is greter or equal\n"
     ]
    }
   ],
   "source": [
    "a=7\n",
    "b=10\n",
    "result=\"a is greter\" if a>b else \" b is greter or equal\"\n",
    "print(result)"
   ]
  },
  {
   "cell_type": "code",
   "execution_count": null,
   "metadata": {},
   "outputs": [],
   "source": []
  }
 ],
 "metadata": {
  "kernelspec": {
   "display_name": "base",
   "language": "python",
   "name": "python3"
  },
  "language_info": {
   "codemirror_mode": {
    "name": "ipython",
    "version": 3
   },
   "file_extension": ".py",
   "mimetype": "text/x-python",
   "name": "python",
   "nbconvert_exporter": "python",
   "pygments_lexer": "ipython3",
   "version": "3.10.9"
  }
 },
 "nbformat": 4,
 "nbformat_minor": 2
}
